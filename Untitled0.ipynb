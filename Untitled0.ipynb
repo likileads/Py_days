{
  "nbformat": 4,
  "nbformat_minor": 0,
  "metadata": {
    "colab": {
      "name": "Untitled0.ipynb",
      "provenance": [],
      "toc_visible": true
    },
    "kernelspec": {
      "name": "python3",
      "display_name": "Python 3"
    },
    "language_info": {
      "name": "python"
    }
  },
  "cells": [
    {
      "cell_type": "markdown",
      "metadata": {
        "id": "YHgzrTak1pIm"
      },
      "source": [
        "# Stack"
      ]
    },
    {
      "cell_type": "code",
      "metadata": {
        "id": "Dq-RsheW1neh"
      },
      "source": [
        "# Approach 1\n",
        "stack = [3, 4, 5]\n",
        "stack.append(6) # [3 ,4, 5, 6]\n",
        "stack.pop() # [3 , 4, 5]\n",
        "\n",
        "# Approach 2\n",
        "class Stack:\n",
        " def __init__(self):\n",
        "   self.stack = []\n",
        "\n",
        "# check if empty\n",
        " def isEmpty(self):\n",
        "   return len(self.stack) == 0\n",
        "\n",
        " def push(self,p):\n",
        "   self.stack.append(p)\n",
        "\n",
        " def pop(self):\n",
        "   return self.stack.pop()"
      ],
      "execution_count": null,
      "outputs": []
    }
  ]
}